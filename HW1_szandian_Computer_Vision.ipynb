{
  "nbformat": 4,
  "nbformat_minor": 0,
  "metadata": {
    "colab": {
      "provenance": [],
      "machine_shape": "hm",
      "gpuType": "A100",
      "include_colab_link": true
    },
    "kernelspec": {
      "name": "python3",
      "display_name": "Python 3"
    },
    "language_info": {
      "name": "python"
    },
    "accelerator": "GPU"
  },
  "cells": [
    {
      "cell_type": "markdown",
      "metadata": {
        "id": "view-in-github",
        "colab_type": "text"
      },
      "source": [
        "<a href=\"https://colab.research.google.com/github/szandian/Computer_Vision/blob/main/HW1_szandian_Computer_Vision.ipynb\" target=\"_parent\"><img src=\"https://colab.research.google.com/assets/colab-badge.svg\" alt=\"Open In Colab\"/></a>"
      ]
    },
    {
      "cell_type": "code",
      "source": [
        "import numpy as np\n",
        "import time\n",
        "import tensorflow as tf\n",
        "from tensorflow.keras.datasets import mnist, cifar10, fashion_mnist\n",
        "from tensorflow.keras.models import Sequential\n",
        "from tensorflow.keras.layers import Flatten, Dense\n",
        "from sklearn.neighbors import KNeighborsClassifier\n",
        "import matplotlib.pyplot as plt\n"
      ],
      "metadata": {
        "id": "Ewd2S_YQvhRO"
      },
      "execution_count": null,
      "outputs": []
    },
    {
      "cell_type": "markdown",
      "source": [
        "#########################################\n",
        "# Q1: Distance Analysis on MNIST & CIFAR-10\n",
        "#########################################"
      ],
      "metadata": {
        "id": "P3STRxNJwsxS"
      }
    },
    {
      "cell_type": "code",
      "source": [
        "\n",
        "# For reproducibility\n",
        "np.random.seed(42)\n",
        "tf.random.set_seed(42)\n",
        "\n",
        "# ---------------------\n",
        "# 1. Load MNIST dataset\n",
        "(x_train_mnist, y_train_mnist), (x_test_mnist, y_test_mnist) = mnist.load_data()\n",
        "x_train_mnist = x_train_mnist / 255.0\n",
        "x_test_mnist  = x_test_mnist  / 255.0\n",
        "\n",
        "# ---------------------\n",
        "# 3. Load CIFAR-10 dataset\n",
        "(x_train_cifar, y_train_cifar), (x_test_cifar, y_test_cifar) = cifar10.load_data()\n",
        "x_train_cifar = x_train_cifar / 255.0\n",
        "x_test_cifar  = x_test_cifar  / 255.0\n",
        "y_train_cifar = y_train_cifar.flatten()\n",
        "y_test_cifar  = y_test_cifar.flatten()\n",
        "\n",
        "# ---------------------\n",
        "# Functions to compute distances\n",
        "def l1_distance(img1, img2):\n",
        "    return np.sum(np.abs(img1 - img2))\n",
        "\n",
        "def l2_distance(img1, img2):\n",
        "    return np.sqrt(np.sum((img1 - img2) ** 2))\n",
        "\n",
        "# ---------------------\n",
        "# 2. & 4. Select one random image per class and compute L1 distance matrices\n",
        "\n",
        "def select_random_samples(x_data, y_data, num_classes=10):\n",
        "    \"\"\"Select one random sample per class from the given dataset.\"\"\"\n",
        "    samples = {}\n",
        "    for i in range(num_classes):\n",
        "        indices = np.where(y_data == i)[0]\n",
        "        random_idx = np.random.choice(indices)\n",
        "        samples[i] = x_data[random_idx]\n",
        "    return samples\n",
        "\n",
        "# Select random samples for MNIST and CIFAR-10\n",
        "mnist_class_samples = select_random_samples(x_train_mnist, y_train_mnist)\n",
        "cifar_class_samples = select_random_samples(x_train_cifar, y_train_cifar)\n",
        "\n",
        "# Compute L1 distance matrix for MNIST\n",
        "l1_dist_mnist = np.zeros((10, 10))\n",
        "for i in range(10):\n",
        "    for j in range(10):\n",
        "        l1_dist_mnist[i, j] = l1_distance(mnist_class_samples[i], mnist_class_samples[j])\n",
        "print(\"L1 Distance Matrix for MNIST:\")\n",
        "print(l1_dist_mnist)\n",
        "\n",
        "# Compute L1 distance matrix for CIFAR-10\n",
        "l1_dist_cifar = np.zeros((10, 10))\n",
        "for i in range(10):\n",
        "    for j in range(10):\n",
        "        l1_dist_cifar[i, j] = l1_distance(cifar_class_samples[i], cifar_class_samples[j])\n",
        "print(\"\\nL1 Distance Matrix for CIFAR-10:\")\n",
        "print(l1_dist_cifar)\n",
        "\n",
        "\n"
      ],
      "metadata": {
        "colab": {
          "base_uri": "https://localhost:8080/"
        },
        "id": "W2zgeH8ovcXi",
        "outputId": "714dd688-df8e-4aaf-897f-f34e7cf55172"
      },
      "execution_count": null,
      "outputs": [
        {
          "output_type": "stream",
          "name": "stdout",
          "text": [
            "Downloading data from https://storage.googleapis.com/tensorflow/tf-keras-datasets/mnist.npz\n",
            "\u001b[1m11490434/11490434\u001b[0m \u001b[32m━━━━━━━━━━━━━━━━━━━━\u001b[0m\u001b[37m\u001b[0m \u001b[1m2s\u001b[0m 0us/step\n",
            "Downloading data from https://www.cs.toronto.edu/~kriz/cifar-10-python.tar.gz\n",
            "\u001b[1m170498071/170498071\u001b[0m \u001b[32m━━━━━━━━━━━━━━━━━━━━\u001b[0m\u001b[37m\u001b[0m \u001b[1m13s\u001b[0m 0us/step\n",
            "L1 Distance Matrix for MNIST:\n",
            "[[  0.         195.00784314 182.6        130.49411765 222.72941176\n",
            "  174.24705882 188.06666667 199.89019608 154.74509804 197.90196078]\n",
            " [195.00784314   0.         103.78823529 137.83921569 139.58039216\n",
            "  139.1372549  145.08235294 111.76078431 159.72941176  80.19607843]\n",
            " [182.6        103.78823529   0.         137.36078431 141.6745098\n",
            "  175.74117647 140.61960784 143.77647059 143.4627451  111.21568627]\n",
            " [130.49411765 137.83921569 137.36078431   0.         174.94901961\n",
            "  132.6        165.90196078 177.77254902 107.63137255 134.36470588]\n",
            " [222.72941176 139.58039216 141.6745098  174.94901961   0.\n",
            "  152.38039216 145.66666667 132.50980392 185.64705882 138.05882353]\n",
            " [174.24705882 139.1372549  175.74117647 132.6        152.38039216\n",
            "    0.         181.1372549  149.         130.6627451  116.99607843]\n",
            " [188.06666667 145.08235294 140.61960784 165.90196078 145.66666667\n",
            "  181.1372549    0.         144.55294118 176.57647059 152.85490196]\n",
            " [199.89019608 111.76078431 143.77647059 177.77254902 132.50980392\n",
            "  149.         144.55294118   0.         156.74509804 117.19607843]\n",
            " [154.74509804 159.72941176 143.4627451  107.63137255 185.64705882\n",
            "  130.6627451  176.57647059 156.74509804   0.         131.40784314]\n",
            " [197.90196078  80.19607843 111.21568627 134.36470588 138.05882353\n",
            "  116.99607843 152.85490196 117.19607843 131.40784314   0.        ]]\n",
            "\n",
            "L1 Distance Matrix for CIFAR-10:\n",
            "[[   0.         1298.07058824  776.21568627 1442.30196078  919.82352941\n",
            "  1276.79215686 1259.69803922  988.64705882 1052.01568627 1445.20784314]\n",
            " [1298.07058824    0.         1383.53333333 1306.1372549  1160.8745098\n",
            "  1490.47058824  498.10588235  842.01960784 1394.22745098 1132.72941176]\n",
            " [ 776.21568627 1383.53333333    0.         1482.83921569  761.8745098\n",
            "   861.44705882 1251.09803922  897.88235294  848.01960784 1109.94901961]\n",
            " [1442.30196078 1306.1372549  1482.83921569    0.         1041.58431373\n",
            "  1320.71764706 1122.83921569 1282.72156863 1167.97254902  854.6       ]\n",
            " [ 919.82352941 1160.8745098   761.8745098  1041.58431373    0.\n",
            "   816.43529412  908.97254902  635.49019608  952.81960784  776.24705882]\n",
            " [1276.79215686 1490.47058824  861.44705882 1320.71764706  816.43529412\n",
            "     0.         1257.04705882 1065.66666667  968.02352941  815.43529412]\n",
            " [1259.69803922  498.10588235 1251.09803922 1122.83921569  908.97254902\n",
            "  1257.04705882    0.          694.94901961 1170.08235294  866.59215686]\n",
            " [ 988.64705882  842.01960784  897.88235294 1282.72156863  635.49019608\n",
            "  1065.66666667  694.94901961    0.         1042.52156863  906.71764706]\n",
            " [1052.01568627 1394.22745098  848.01960784 1167.97254902  952.81960784\n",
            "   968.02352941 1170.08235294 1042.52156863    0.         1045.70196078]\n",
            " [1445.20784314 1132.72941176 1109.94901961  854.6         776.24705882\n",
            "   815.43529412  866.59215686  906.71764706 1045.70196078    0.        ]]\n"
          ]
        }
      ]
    },
    {
      "cell_type": "code",
      "source": [
        "# ---------------------\n",
        "# Q1.5: Find the closest neighboring class (K=1) for each class (using L1 distance)\n",
        "print(\"\\nClosest Neighbor (based on L1 distance):\")\n",
        "for i in range(10):\n",
        "    distances = l1_dist_mnist[i].copy()\n",
        "    distances[i] = np.inf  # Exclude self-distance\n",
        "    closest_class = np.argmin(distances)\n",
        "    print(f\"MNIST class {i} is closest to class {closest_class} (L1 distance: {distances[closest_class]:.2f})\")\n",
        "\n",
        "# (Commentary: In some cases, the pixel distributions of digits might be similar—for example, '1' and '7'\n",
        "# can share similar stroke patterns in certain handwritten styles.)\n",
        "\n",
        "# ---------------------\n",
        "# 6. Repeat steps using L2 distance\n",
        "\n",
        "# Compute L2 distance matrix for MNIST\n",
        "l2_dist_mnist = np.zeros((10, 10))\n",
        "for i in range(10):\n",
        "    for j in range(10):\n",
        "        l2_dist_mnist[i, j] = l2_distance(mnist_class_samples[i], mnist_class_samples[j])\n",
        "print(\"\\nL2 Distance Matrix for MNIST:\")\n",
        "print(l2_dist_mnist)\n",
        "\n",
        "# Compute L2 distance matrix for CIFAR-10\n",
        "l2_dist_cifar = np.zeros((10, 10))\n",
        "for i in range(10):\n",
        "    for j in range(10):\n",
        "        l2_dist_cifar[i, j] = l2_distance(cifar_class_samples[i], cifar_class_samples[j])\n",
        "print(\"\\nL2 Distance Matrix for CIFAR-10:\")\n",
        "print(l2_dist_cifar)"
      ],
      "metadata": {
        "colab": {
          "base_uri": "https://localhost:8080/"
        },
        "id": "M5qfdx4Vve6d",
        "outputId": "e6ef61cb-960c-4806-957e-a0fc8c38c99a"
      },
      "execution_count": null,
      "outputs": [
        {
          "output_type": "stream",
          "name": "stdout",
          "text": [
            "\n",
            "Closest Neighbor (based on L1 distance):\n",
            "MNIST class 0 is closest to class 3 (L1 distance: 130.49)\n",
            "MNIST class 1 is closest to class 9 (L1 distance: 80.20)\n",
            "MNIST class 2 is closest to class 1 (L1 distance: 103.79)\n",
            "MNIST class 3 is closest to class 8 (L1 distance: 107.63)\n",
            "MNIST class 4 is closest to class 7 (L1 distance: 132.51)\n",
            "MNIST class 5 is closest to class 9 (L1 distance: 117.00)\n",
            "MNIST class 6 is closest to class 2 (L1 distance: 140.62)\n",
            "MNIST class 7 is closest to class 1 (L1 distance: 111.76)\n",
            "MNIST class 8 is closest to class 3 (L1 distance: 107.63)\n",
            "MNIST class 9 is closest to class 1 (L1 distance: 80.20)\n",
            "\n",
            "L2 Distance Matrix for MNIST:\n",
            "[[ 0.         13.08104745 12.27430746 10.16450768 13.85306537 12.03485966\n",
            "  12.47300445 13.01477468 11.1093921  12.95478488]\n",
            " [13.08104745  0.          9.08295741 10.80493358 10.88182016 10.97699387\n",
            "  10.94106683  9.54179217 11.71301389  7.86947538]\n",
            " [12.27430746  9.08295741  0.         10.52256834 10.6556568  12.17522333\n",
            "  10.4745399  10.71520889 10.65135218  9.18799678]\n",
            " [10.16450768 10.80493358 10.52256834  0.         12.21174708 10.29800263\n",
            "  11.5986218  12.25694791  8.91187838 10.42925896]\n",
            " [13.85306537 10.88182016 10.6556568  12.21174708  0.         11.22967522\n",
            "  10.77910819 10.26771666 12.48071731 10.64880641]\n",
            " [12.03485966 10.97699387 12.17522333 10.29800263 11.22967522  0.\n",
            "  12.300745   11.13738539 10.16028635  9.71643633]\n",
            " [12.47300445 10.94106683 10.4745399  11.5986218  10.77910819 12.300745\n",
            "   0.         10.69313685 12.0057035  11.07238079]\n",
            " [13.01477468  9.54179217 10.71520889 12.25694791 10.26771666 11.13738539\n",
            "  10.69313685  0.         11.33566025  9.60870344]\n",
            " [11.1093921  11.71301389 10.65135218  8.91187838 12.48071731 10.16028635\n",
            "  12.0057035  11.33566025  0.         10.28113617]\n",
            " [12.95478488  7.86947538  9.18799678 10.42925896 10.64880641  9.71643633\n",
            "  11.07238079  9.60870344 10.28113617  0.        ]]\n",
            "\n",
            "L2 Distance Matrix for CIFAR-10:\n",
            "[[ 0.         29.01551746 17.57728909 30.80094792 20.11687534 26.57683427\n",
            "  27.3082736  22.03323867 22.74450303 29.04141735]\n",
            " [29.01551746  0.         27.6818685  30.02098228 23.54174611 30.11494524\n",
            "  11.66231456 19.03347423 28.91511181 24.54666092]\n",
            " [17.57728909 27.6818685   0.         29.5021461  16.76454489 18.88144644\n",
            "  25.49412096 19.78641587 19.32779899 22.78328134]\n",
            " [30.80094792 30.02098228 29.5021461   0.         21.54975859 27.49214029\n",
            "  25.34932295 26.98018753 25.34662645 19.1802318 ]\n",
            " [20.11687534 23.54174611 16.76454489 21.54975859  0.         18.4613286\n",
            "  19.19453978 13.57232637 19.89089773 16.71408203]\n",
            " [26.57683427 30.11494524 18.88144644 27.49214029 18.4613286   0.\n",
            "  25.85210502 22.22907926 21.29601118 18.09548683]\n",
            " [27.3082736  11.66231456 25.49412096 25.34932295 19.19453978 25.85210502\n",
            "   0.         16.36189626 24.9834575  19.3304874 ]\n",
            " [22.03323867 19.03347423 19.78641587 26.98018753 13.57232637 22.22907926\n",
            "  16.36189626  0.         22.65598466 19.56011957]\n",
            " [22.74450303 28.91511181 19.32779899 25.34662645 19.89089773 21.29601118\n",
            "  24.9834575  22.65598466  0.         22.44937232]\n",
            " [29.04141735 24.54666092 22.78328134 19.1802318  16.71408203 18.09548683\n",
            "  19.3304874  19.56011957 22.44937232  0.        ]]\n"
          ]
        }
      ]
    },
    {
      "cell_type": "markdown",
      "source": [
        "#########################################\n",
        "# Q2: KNN Classification on MNIST\n",
        "#########################################"
      ],
      "metadata": {
        "id": "4sM0iTCiydfV"
      }
    },
    {
      "cell_type": "code",
      "source": [
        "# 1. Create an 80/20 train-test split from the MNIST training set\n",
        "mnist_total = x_train_mnist.shape[0]\n",
        "train_size = int(0.8 * mnist_total)\n",
        "x_train_mnist_knn, y_train_mnist_knn = x_train_mnist[:train_size], y_train_mnist[:train_size]\n",
        "x_test_mnist_knn,  y_test_mnist_knn  = x_train_mnist[train_size:], y_train_mnist[train_size:]\n",
        "\n",
        "# 2. & 3. Define a function to run KNN for different k-values and print accuracy and computation time\n",
        "def knn_classification(train_data, train_labels, test_data, test_labels, k_values, metric):\n",
        "    print(f\"\\nKNN Classification using {metric} distance:\")\n",
        "    for k in k_values:\n",
        "        knn = KNeighborsClassifier(n_neighbors=k, metric=metric)\n",
        "        start_time = time.time()\n",
        "        # Flatten images\n",
        "        knn.fit(train_data.reshape(train_data.shape[0], -1), train_labels)\n",
        "        accuracy = knn.score(test_data.reshape(test_data.shape[0], -1), test_labels)\n",
        "        end_time = time.time()\n",
        "        print(f\"  K={k:3d} -> Accuracy: {accuracy:.4f}, Time: {end_time - start_time:.2f} sec\")\n",
        "\n",
        "k_values = [5, 25, 55, 105]\n",
        "knn_classification(x_train_mnist_knn, y_train_mnist_knn,\n",
        "                   x_test_mnist_knn, y_test_mnist_knn, k_values, metric='manhattan')\n",
        "knn_classification(x_train_mnist_knn, y_train_mnist_knn,\n",
        "                   x_test_mnist_knn, y_test_mnist_knn, k_values, metric='euclidean')"
      ],
      "metadata": {
        "colab": {
          "base_uri": "https://localhost:8080/"
        },
        "id": "dOcovVIYv96t",
        "outputId": "cdecea34-2147-4e34-bdbd-2bc48d18e1ed"
      },
      "execution_count": null,
      "outputs": [
        {
          "output_type": "stream",
          "name": "stdout",
          "text": [
            "\n",
            "KNN Classification using manhattan distance:\n",
            "  K=  5 -> Accuracy: 0.9631, Time: 108.24 sec\n",
            "  K= 25 -> Accuracy: 0.9493, Time: 108.17 sec\n",
            "  K= 55 -> Accuracy: 0.9391, Time: 108.38 sec\n",
            "  K=105 -> Accuracy: 0.9283, Time: 108.24 sec\n",
            "\n",
            "KNN Classification using euclidean distance:\n",
            "  K=  5 -> Accuracy: 0.9688, Time: 4.24 sec\n",
            "  K= 25 -> Accuracy: 0.9578, Time: 4.66 sec\n",
            "  K= 55 -> Accuracy: 0.9475, Time: 4.26 sec\n",
            "  K=105 -> Accuracy: 0.9385, Time: 4.34 sec\n"
          ]
        }
      ]
    },
    {
      "cell_type": "markdown",
      "source": [
        "#########################################\n",
        "# Q3: MLP Experiments on MNIST\n",
        "#########################################"
      ],
      "metadata": {
        "id": "4QnRWtOXwlWX"
      }
    },
    {
      "cell_type": "code",
      "execution_count": null,
      "metadata": {
        "colab": {
          "base_uri": "https://localhost:8080/"
        },
        "id": "vpzCvbPnvSmK",
        "outputId": "3ff44622-c274-493e-9abd-d3772e89443e"
      },
      "outputs": [
        {
          "output_type": "stream",
          "name": "stderr",
          "text": [
            "/usr/local/lib/python3.11/dist-packages/keras/src/layers/reshaping/flatten.py:37: UserWarning: Do not pass an `input_shape`/`input_dim` argument to a layer. When using Sequential models, prefer using an `Input(shape)` object as the first layer in the model instead.\n",
            "  super().__init__(**kwargs)\n"
          ]
        },
        {
          "output_type": "stream",
          "name": "stdout",
          "text": [
            "Epoch 1/5\n",
            "\u001b[1m1875/1875\u001b[0m \u001b[32m━━━━━━━━━━━━━━━━━━━━\u001b[0m\u001b[37m\u001b[0m \u001b[1m6s\u001b[0m 2ms/step - accuracy: 0.8766 - loss: 0.4312\n",
            "Epoch 2/5\n",
            "\u001b[1m1875/1875\u001b[0m \u001b[32m━━━━━━━━━━━━━━━━━━━━\u001b[0m\u001b[37m\u001b[0m \u001b[1m3s\u001b[0m 2ms/step - accuracy: 0.9631 - loss: 0.1273\n",
            "Epoch 3/5\n",
            "\u001b[1m1875/1875\u001b[0m \u001b[32m━━━━━━━━━━━━━━━━━━━━\u001b[0m\u001b[37m\u001b[0m \u001b[1m3s\u001b[0m 2ms/step - accuracy: 0.9762 - loss: 0.0814\n",
            "Epoch 4/5\n",
            "\u001b[1m1875/1875\u001b[0m \u001b[32m━━━━━━━━━━━━━━━━━━━━\u001b[0m\u001b[37m\u001b[0m \u001b[1m4s\u001b[0m 2ms/step - accuracy: 0.9828 - loss: 0.0576\n",
            "Epoch 5/5\n",
            "\u001b[1m1875/1875\u001b[0m \u001b[32m━━━━━━━━━━━━━━━━━━━━\u001b[0m\u001b[37m\u001b[0m \u001b[1m3s\u001b[0m 2ms/step - accuracy: 0.9875 - loss: 0.0430\n",
            "\n",
            "MLP Model 1 (Baseline) Test Accuracy: 0.9738\n",
            "Epoch 1/5\n",
            "\u001b[1m1875/1875\u001b[0m \u001b[32m━━━━━━━━━━━━━━━━━━━━\u001b[0m\u001b[37m\u001b[0m \u001b[1m6s\u001b[0m 2ms/step - accuracy: 0.9044 - loss: 0.3203\n",
            "Epoch 2/5\n",
            "\u001b[1m1875/1875\u001b[0m \u001b[32m━━━━━━━━━━━━━━━━━━━━\u001b[0m\u001b[37m\u001b[0m \u001b[1m3s\u001b[0m 2ms/step - accuracy: 0.9747 - loss: 0.0834\n",
            "Epoch 3/5\n",
            "\u001b[1m1875/1875\u001b[0m \u001b[32m━━━━━━━━━━━━━━━━━━━━\u001b[0m\u001b[37m\u001b[0m \u001b[1m3s\u001b[0m 2ms/step - accuracy: 0.9855 - loss: 0.0470\n",
            "Epoch 4/5\n",
            "\u001b[1m1875/1875\u001b[0m \u001b[32m━━━━━━━━━━━━━━━━━━━━\u001b[0m\u001b[37m\u001b[0m \u001b[1m4s\u001b[0m 2ms/step - accuracy: 0.9904 - loss: 0.0306\n",
            "Epoch 5/5\n",
            "\u001b[1m1875/1875\u001b[0m \u001b[32m━━━━━━━━━━━━━━━━━━━━\u001b[0m\u001b[37m\u001b[0m \u001b[1m3s\u001b[0m 2ms/step - accuracy: 0.9941 - loss: 0.0203\n",
            "MLP Model 2 (Hidden size = 784) Test Accuracy: 0.9800\n",
            "Epoch 1/5\n",
            "\u001b[1m1875/1875\u001b[0m \u001b[32m━━━━━━━━━━━━━━━━━━━━\u001b[0m\u001b[37m\u001b[0m \u001b[1m6s\u001b[0m 2ms/step - accuracy: 0.9118 - loss: 0.2942\n",
            "Epoch 2/5\n",
            "\u001b[1m1875/1875\u001b[0m \u001b[32m━━━━━━━━━━━━━━━━━━━━\u001b[0m\u001b[37m\u001b[0m \u001b[1m3s\u001b[0m 2ms/step - accuracy: 0.9757 - loss: 0.0781\n",
            "Epoch 3/5\n",
            "\u001b[1m1875/1875\u001b[0m \u001b[32m━━━━━━━━━━━━━━━━━━━━\u001b[0m\u001b[37m\u001b[0m \u001b[1m3s\u001b[0m 2ms/step - accuracy: 0.9862 - loss: 0.0433\n",
            "Epoch 4/5\n",
            "\u001b[1m1875/1875\u001b[0m \u001b[32m━━━━━━━━━━━━━━━━━━━━\u001b[0m\u001b[37m\u001b[0m \u001b[1m3s\u001b[0m 2ms/step - accuracy: 0.9897 - loss: 0.0317\n",
            "Epoch 5/5\n",
            "\u001b[1m1875/1875\u001b[0m \u001b[32m━━━━━━━━━━━━━━━━━━━━\u001b[0m\u001b[37m\u001b[0m \u001b[1m3s\u001b[0m 2ms/step - accuracy: 0.9912 - loss: 0.0244\n",
            "MLP Model 3 (Hidden size = 1568) Test Accuracy: 0.9795\n",
            "Epoch 1/5\n",
            "\u001b[1m1875/1875\u001b[0m \u001b[32m━━━━━━━━━━━━━━━━━━━━\u001b[0m\u001b[37m\u001b[0m \u001b[1m6s\u001b[0m 2ms/step - accuracy: 0.8729 - loss: 0.4283\n",
            "Epoch 2/5\n",
            "\u001b[1m1875/1875\u001b[0m \u001b[32m━━━━━━━━━━━━━━━━━━━━\u001b[0m\u001b[37m\u001b[0m \u001b[1m4s\u001b[0m 2ms/step - accuracy: 0.9683 - loss: 0.1114\n",
            "Epoch 3/5\n",
            "\u001b[1m1875/1875\u001b[0m \u001b[32m━━━━━━━━━━━━━━━━━━━━\u001b[0m\u001b[37m\u001b[0m \u001b[1m4s\u001b[0m 2ms/step - accuracy: 0.9793 - loss: 0.0697\n",
            "Epoch 4/5\n",
            "\u001b[1m1875/1875\u001b[0m \u001b[32m━━━━━━━━━━━━━━━━━━━━\u001b[0m\u001b[37m\u001b[0m \u001b[1m4s\u001b[0m 2ms/step - accuracy: 0.9849 - loss: 0.0498\n",
            "Epoch 5/5\n",
            "\u001b[1m1875/1875\u001b[0m \u001b[32m━━━━━━━━━━━━━━━━━━━━\u001b[0m\u001b[37m\u001b[0m \u001b[1m4s\u001b[0m 2ms/step - accuracy: 0.9897 - loss: 0.0361\n",
            "MLP Model 4 (Extra hidden layer) Test Accuracy: 0.9722\n"
          ]
        }
      ],
      "source": [
        "\n",
        "# Use the original MNIST train/test split provided by Keras for MLP training\n",
        "# (60000 training samples, 10000 test samples)\n",
        "\n",
        "def create_and_train_mlp(model, x_train, y_train, x_test, y_test, epochs=5, batch_size=32):\n",
        "    model.compile(optimizer='adam',\n",
        "                  loss='sparse_categorical_crossentropy',\n",
        "                  metrics=['accuracy'])\n",
        "    model.fit(x_train, y_train, epochs=epochs, batch_size=batch_size, verbose=1)\n",
        "    test_loss, test_accuracy = model.evaluate(x_test, y_test, verbose=0)\n",
        "    return test_accuracy\n",
        "\n",
        "input_shape = (28, 28)\n",
        "\n",
        "# Model 1: Baseline MLP (from reference)\n",
        "model1 = Sequential([\n",
        "    Flatten(input_shape=input_shape),\n",
        "    Dense(128, activation='relu'),\n",
        "    Dense(10, activation='softmax')\n",
        "])\n",
        "acc1 = create_and_train_mlp(model1, x_train_mnist, y_train_mnist, x_test_mnist, y_test_mnist)\n",
        "print(f\"\\nMLP Model 1 (Baseline) Test Accuracy: {acc1:.4f}\")\n",
        "\n",
        "# Model 2: Second layer neurons equal to input size (784)\n",
        "model2 = Sequential([\n",
        "    Flatten(input_shape=input_shape),\n",
        "    Dense(784, activation='relu'),\n",
        "    Dense(10, activation='softmax')\n",
        "])\n",
        "acc2 = create_and_train_mlp(model2, x_train_mnist, y_train_mnist, x_test_mnist, y_test_mnist)\n",
        "print(f\"MLP Model 2 (Hidden size = 784) Test Accuracy: {acc2:.4f}\")\n",
        "\n",
        "# Model 3: Second layer neurons equal to 2x input size (1568)\n",
        "model3 = Sequential([\n",
        "    Flatten(input_shape=input_shape),\n",
        "    Dense(1568, activation='relu'),\n",
        "    Dense(10, activation='softmax')\n",
        "])\n",
        "acc3 = create_and_train_mlp(model3, x_train_mnist, y_train_mnist, x_test_mnist, y_test_mnist)\n",
        "print(f\"MLP Model 3 (Hidden size = 1568) Test Accuracy: {acc3:.4f}\")\n",
        "\n",
        "# Model 4: Adding an extra dense layer (e.g., 128 neurons then 64 neurons)\n",
        "model4 = Sequential([\n",
        "    Flatten(input_shape=input_shape),\n",
        "    Dense(128, activation='relu'),\n",
        "    Dense(64, activation='relu'),\n",
        "    Dense(10, activation='softmax')\n",
        "])\n",
        "acc4 = create_and_train_mlp(model4, x_train_mnist, y_train_mnist, x_test_mnist, y_test_mnist)\n",
        "print(f\"MLP Model 4 (Extra hidden layer) Test Accuracy: {acc4:.4f}\")\n"
      ]
    },
    {
      "cell_type": "markdown",
      "source": [
        "#########################################\n",
        "# Q4: Summary of Key Observations\n",
        "#########################################"
      ],
      "metadata": {
        "id": "I4yP9ODWwejZ"
      }
    },
    {
      "cell_type": "code",
      "source": [
        "print(\"\\nSummary of Key Observations:\")\n",
        "print(\"\"\"\n",
        "1. Q1 (Distance Analysis):\n",
        "   - The L1 and L2 distance matrices provide insight into how similar the randomly chosen images from each class are.\n",
        "   - For example, some digit classes (like 1 and 7) may have relatively small distances, reflecting similar stroke patterns.\n",
        "2. Q2 (KNN Classification):\n",
        "   - The KNN classifier’s accuracy and runtime vary with the choice of K and the distance metric.\n",
        "   - Smaller K values often lead to higher variance, whereas larger K values can smooth out predictions.\n",
        "3. Q3 (MLP Experiments):\n",
        "   - Changing the hidden layer size or adding extra layers can impact model capacity.\n",
        "   - There is a trade-off between model complexity and generalization; the different architectures yield slightly different test accuracies.\n",
        "\"\"\")\n"
      ],
      "metadata": {
        "colab": {
          "base_uri": "https://localhost:8080/"
        },
        "id": "DBjX9uHXwGXh",
        "outputId": "22d65f93-9795-48f6-b063-576cd53f3385"
      },
      "execution_count": null,
      "outputs": [
        {
          "output_type": "stream",
          "name": "stdout",
          "text": [
            "\n",
            "Summary of Key Observations:\n",
            "\n",
            "1. Q1 (Distance Analysis):\n",
            "   - The L1 and L2 distance matrices provide insight into how similar the randomly chosen images from each class are.\n",
            "   - For example, some digit classes (like 1 and 7) may have relatively small distances, reflecting similar stroke patterns.\n",
            "2. Q2 (KNN Classification):\n",
            "   - The KNN classifier’s accuracy and runtime vary with the choice of K and the distance metric.\n",
            "   - Smaller K values often lead to higher variance, whereas larger K values can smooth out predictions.\n",
            "3. Q3 (MLP Experiments):\n",
            "   - Changing the hidden layer size or adding extra layers can impact model capacity.\n",
            "   - There is a trade-off between model complexity and generalization; the different architectures yield slightly different test accuracies.\n",
            "\n"
          ]
        }
      ]
    },
    {
      "cell_type": "markdown",
      "source": [
        "#########################################\n",
        "# Q5: KNN and MLP on Fashion MNIST\n",
        "#########################################\n"
      ],
      "metadata": {
        "id": "eVsGSl-_wh0f"
      }
    },
    {
      "cell_type": "code",
      "source": [
        "# 1. Load Fashion MNIST data\n",
        "(x_train_fashion, y_train_fashion), (x_test_fashion, y_test_fashion) = fashion_mnist.load_data()\n",
        "x_train_fashion = x_train_fashion / 255.0\n",
        "x_test_fashion  = x_test_fashion  / 255.0\n",
        "\n",
        "# 2. Apply KNN to Fashion MNIST (using k=5 and Manhattan distance)\n",
        "knn_fashion = KNeighborsClassifier(n_neighbors=5, metric='manhattan')\n",
        "start_time = time.time()\n",
        "knn_fashion.fit(x_train_fashion.reshape(x_train_fashion.shape[0], -1), y_train_fashion)\n",
        "fashion_knn_accuracy = knn_fashion.score(x_test_fashion.reshape(x_test_fashion.shape[0], -1), y_test_fashion)\n",
        "end_time = time.time()\n",
        "print(f\"\\nFashion MNIST KNN (k=5, Manhattan): Accuracy = {fashion_knn_accuracy:.4f}, Time = {end_time - start_time:.2f} sec\")\n",
        "\n",
        "# 3. Build and train an MLP on Fashion MNIST (baseline architecture)\n",
        "fashion_mlp = Sequential([\n",
        "    Flatten(input_shape=(28,28)),\n",
        "    Dense(128, activation='relu'),\n",
        "    Dense(10, activation='softmax')\n",
        "])\n",
        "fashion_mlp.compile(optimizer='adam',\n",
        "                    loss='sparse_categorical_crossentropy',\n",
        "                    metrics=['accuracy'])\n",
        "fashion_mlp.fit(x_train_fashion, y_train_fashion, epochs=5, batch_size=32, verbose=1)\n",
        "fashion_mlp_eval = fashion_mlp.evaluate(x_test_fashion, y_test_fashion, verbose=0)\n",
        "print(f\"Fashion MNIST MLP: Test Accuracy = {fashion_mlp_eval[1]:.4f}\")\n",
        "\n",
        "print(\"\"\"\n",
        "Observation for Q5:\n",
        "   - The MLP typically outperforms the KNN classifier on Fashion MNIST.\n",
        "   - This indicates that learning task-specific features via deep networks can better capture the nuances in the data\n",
        "     compared to distance-based methods.\n",
        "\"\"\")"
      ],
      "metadata": {
        "colab": {
          "base_uri": "https://localhost:8080/"
        },
        "id": "BFWUla85wIIb",
        "outputId": "320868be-2b8e-44e7-908c-b3f7c98226be"
      },
      "execution_count": null,
      "outputs": [
        {
          "output_type": "stream",
          "name": "stdout",
          "text": [
            "Downloading data from https://storage.googleapis.com/tensorflow/tf-keras-datasets/train-labels-idx1-ubyte.gz\n",
            "\u001b[1m29515/29515\u001b[0m \u001b[32m━━━━━━━━━━━━━━━━━━━━\u001b[0m\u001b[37m\u001b[0m \u001b[1m0s\u001b[0m 0us/step\n",
            "Downloading data from https://storage.googleapis.com/tensorflow/tf-keras-datasets/train-images-idx3-ubyte.gz\n",
            "\u001b[1m26421880/26421880\u001b[0m \u001b[32m━━━━━━━━━━━━━━━━━━━━\u001b[0m\u001b[37m\u001b[0m \u001b[1m2s\u001b[0m 0us/step\n",
            "Downloading data from https://storage.googleapis.com/tensorflow/tf-keras-datasets/t10k-labels-idx1-ubyte.gz\n",
            "\u001b[1m5148/5148\u001b[0m \u001b[32m━━━━━━━━━━━━━━━━━━━━\u001b[0m\u001b[37m\u001b[0m \u001b[1m0s\u001b[0m 0us/step\n",
            "Downloading data from https://storage.googleapis.com/tensorflow/tf-keras-datasets/t10k-images-idx3-ubyte.gz\n",
            "\u001b[1m4422102/4422102\u001b[0m \u001b[32m━━━━━━━━━━━━━━━━━━━━\u001b[0m\u001b[37m\u001b[0m \u001b[1m1s\u001b[0m 0us/step\n",
            "\n",
            "Fashion MNIST KNN (k=5, Manhattan): Accuracy = 0.8623, Time = 118.23 sec\n"
          ]
        },
        {
          "output_type": "stream",
          "name": "stderr",
          "text": [
            "/usr/local/lib/python3.11/dist-packages/keras/src/layers/reshaping/flatten.py:37: UserWarning: Do not pass an `input_shape`/`input_dim` argument to a layer. When using Sequential models, prefer using an `Input(shape)` object as the first layer in the model instead.\n",
            "  super().__init__(**kwargs)\n"
          ]
        },
        {
          "output_type": "stream",
          "name": "stdout",
          "text": [
            "Epoch 1/5\n",
            "\u001b[1m1875/1875\u001b[0m \u001b[32m━━━━━━━━━━━━━━━━━━━━\u001b[0m\u001b[37m\u001b[0m \u001b[1m5s\u001b[0m 2ms/step - accuracy: 0.7801 - loss: 0.6351\n",
            "Epoch 2/5\n",
            "\u001b[1m1875/1875\u001b[0m \u001b[32m━━━━━━━━━━━━━━━━━━━━\u001b[0m\u001b[37m\u001b[0m \u001b[1m4s\u001b[0m 2ms/step - accuracy: 0.8598 - loss: 0.3913\n",
            "Epoch 3/5\n",
            "\u001b[1m1875/1875\u001b[0m \u001b[32m━━━━━━━━━━━━━━━━━━━━\u001b[0m\u001b[37m\u001b[0m \u001b[1m4s\u001b[0m 2ms/step - accuracy: 0.8743 - loss: 0.3463\n",
            "Epoch 4/5\n",
            "\u001b[1m1875/1875\u001b[0m \u001b[32m━━━━━━━━━━━━━━━━━━━━\u001b[0m\u001b[37m\u001b[0m \u001b[1m4s\u001b[0m 2ms/step - accuracy: 0.8826 - loss: 0.3186\n",
            "Epoch 5/5\n",
            "\u001b[1m1875/1875\u001b[0m \u001b[32m━━━━━━━━━━━━━━━━━━━━\u001b[0m\u001b[37m\u001b[0m \u001b[1m4s\u001b[0m 2ms/step - accuracy: 0.8887 - loss: 0.2996\n",
            "Fashion MNIST MLP: Test Accuracy = 0.8722\n",
            "\n",
            "Observation for Q5:\n",
            "   - The MLP typically outperforms the KNN classifier on Fashion MNIST.\n",
            "   - This indicates that learning task-specific features via deep networks can better capture the nuances in the data\n",
            "     compared to distance-based methods.\n",
            "\n"
          ]
        }
      ]
    }
  ]
}